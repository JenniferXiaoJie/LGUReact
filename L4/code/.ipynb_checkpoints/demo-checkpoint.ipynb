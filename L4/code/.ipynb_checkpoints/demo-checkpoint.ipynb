{
 "cells": [
  {
   "cell_type": "markdown",
   "metadata": {},
   "source": [
    "# JavaScript Functions (L4)"
   ]
  },
  {
   "cell_type": "markdown",
   "metadata": {},
   "source": [
    "## The max of an array"
   ]
  },
  {
   "cell_type": "code",
   "execution_count": 2,
   "metadata": {},
   "outputs": [
    {
     "data": {
      "text/plain": [
       "10"
      ]
     },
     "execution_count": 2,
     "metadata": {},
     "output_type": "execute_result"
    }
   ],
   "source": [
    "var list1 = [2, -1, 10, 5, 3];\n",
    "function max( list ){\n",
    "var m = null;\n",
    "for (var i of list){  if (m==null || m<i) m = i;  }\n",
    "    return m;\n",
    "}\n",
    "max(list1); "
   ]
  },
  {
   "cell_type": "markdown",
   "metadata": {},
   "source": [
    "## Multi returns"
   ]
  },
  {
   "cell_type": "code",
   "execution_count": 9,
   "metadata": {},
   "outputs": [
    {
     "data": {
      "text/plain": [
       "false"
      ]
     },
     "execution_count": 9,
     "metadata": {},
     "output_type": "execute_result"
    },
    {
     "name": "stdout",
     "output_type": "stream",
     "text": [
      "1\n"
     ]
    }
   ],
   "source": [
    "function xor(a, b){\n",
    "if (a==b) {return true}\n",
    "    else {return false}\n",
    "}\n",
    "xor(true, false)"
   ]
  },
  {
   "cell_type": "code",
   "execution_count": 10,
   "metadata": {},
   "outputs": [
    {
     "data": {
      "text/plain": [
       "Timeout {\n",
       "  _called: false,\n",
       "  _idleTimeout: 1000,\n",
       "  _idlePrev: \n",
       "   TimersList {\n",
       "     _idleNext: [Circular],\n",
       "     _idlePrev: \n",
       "      Timeout {\n",
       "        _called: true,\n",
       "        _idleTimeout: 1000,\n",
       "        _idlePrev: [Circular],\n",
       "        _idleNext: [Circular],\n",
       "        _idleStart: 280048,\n",
       "        _onTimeout: [Function],\n",
       "        _timerArgs: undefined,\n",
       "        _repeat: 1000,\n",
       "        _destroyed: false,\n",
       "        [Symbol(asyncId)]: 64,\n",
       "        [Symbol(triggerAsyncId)]: 61 },\n",
       "     _timer: Timer { '0': [Function: listOnTimeout], _list: [Circular] },\n",
       "     _unrefed: false,\n",
       "     msecs: 1000,\n",
       "     nextTick: false },\n",
       "  _idleNext: \n",
       "   Timeout {\n",
       "     _called: true,\n",
       "     _idleTimeout: 1000,\n",
       "     _idlePrev: [Circular],\n",
       "     _idleNext: \n",
       "      TimersList {\n",
       "        _idleNext: [Circular],\n",
       "        _idlePrev: [Circular],\n",
       "        _timer: [Object],\n",
       "        _unrefed: false,\n",
       "        msecs: 1000,\n",
       "        nextTick: false },\n",
       "     _idleStart: 280048,\n",
       "     _onTimeout: [Function],\n",
       "     _timerArgs: undefined,\n",
       "     _repeat: 1000,\n",
       "     _destroyed: false,\n",
       "     [Symbol(asyncId)]: 64,\n",
       "     [Symbol(triggerAsyncId)]: 61 },\n",
       "  _idleStart: 280406,\n",
       "  _onTimeout: [Function],\n",
       "  _timerArgs: undefined,\n",
       "  _repeat: 1000,\n",
       "  _destroyed: false,\n",
       "  [Symbol(asyncId)]: 146,\n",
       "  [Symbol(triggerAsyncId)]: 143 }"
      ]
     },
     "execution_count": 10,
     "metadata": {},
     "output_type": "execute_result"
    },
    {
     "name": "stdout",
     "output_type": "stream",
     "text": [
      "1\n",
      "1\n",
      "1\n",
      "1\n",
      "1\n",
      "1\n",
      "1\n",
      "1\n",
      "1\n",
      "1\n",
      "1\n",
      "1\n",
      "1\n",
      "1\n",
      "1\n",
      "1\n",
      "1\n",
      "1\n",
      "1\n",
      "1\n",
      "1\n",
      "1\n",
      "1\n",
      "1\n",
      "1\n",
      "1\n",
      "1\n",
      "1\n",
      "1\n",
      "1\n",
      "1\n",
      "1\n",
      "1\n",
      "1\n",
      "1\n",
      "1\n",
      "1\n",
      "1\n",
      "1\n",
      "1\n",
      "1\n",
      "1\n"
     ]
    }
   ],
   "source": [
    "setInterval(()=>{console.log(1)}, 1000)"
   ]
  }
 ],
 "metadata": {
  "kernelspec": {
   "display_name": "Javascript (Node.js)",
   "language": "javascript",
   "name": "javascript"
  },
  "language_info": {
   "file_extension": ".js",
   "mimetype": "application/javascript",
   "name": "javascript",
   "version": "8.11.4"
  }
 },
 "nbformat": 4,
 "nbformat_minor": 2
}
